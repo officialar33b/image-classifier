{
 "cells": [
  {
   "cell_type": "code",
   "execution_count": 16,
   "metadata": {},
   "outputs": [
    {
     "data": {
      "text/plain": [
       "'\\ndatasets\\n    test\\n        cats\\n        dogs\\n    train\\n        cats\\n        dogs\\n'"
      ]
     },
     "execution_count": 16,
     "metadata": {},
     "output_type": "execute_result"
    }
   ],
   "source": [
    "import tensorflow as tf \n",
    "import keras\n",
    "from PIL import Image \n",
    "import os \n",
    "import shutil\n",
    "\n",
    "'''\n",
    "datasets\n",
    "    test\n",
    "        cats\n",
    "        dogs\n",
    "    train\n",
    "        cats\n",
    "        dogs\n",
    "'''"
   ]
  },
  {
   "cell_type": "code",
   "execution_count": 2,
   "metadata": {},
   "outputs": [],
   "source": [
    "orignal_url = r\"PetImages/\""
   ]
  },
  {
   "cell_type": "code",
   "execution_count": 3,
   "metadata": {},
   "outputs": [
    {
     "data": {
      "text/plain": [
       "(12501, 12501)"
      ]
     },
     "execution_count": 3,
     "metadata": {},
     "output_type": "execute_result"
    }
   ],
   "source": [
    "#Calcuating total length and then splitting it into 25:75 = train:test.\n",
    "\n",
    "cat_len = len(os.listdir(os.path.join(orignal_url, \"Cat\")))\n",
    "dog_len = len(os.listdir(os.path.join(orignal_url, \"Dog\")))\n",
    "\n",
    "cat_len, dog_len"
   ]
  },
  {
   "cell_type": "code",
   "execution_count": 5,
   "metadata": {},
   "outputs": [
    {
     "data": {
      "text/plain": [
       "(3125, 9376)"
      ]
     },
     "execution_count": 5,
     "metadata": {},
     "output_type": "execute_result"
    }
   ],
   "source": [
    "train_len = round(0.25 * cat_len)\n",
    "test_len = cat_len - train_len\n",
    "\n",
    "train_len, test_len"
   ]
  },
  {
   "cell_type": "code",
   "execution_count": 13,
   "metadata": {},
   "outputs": [
    {
     "ename": "FileExistsError",
     "evalue": "[Errno 17] File exists: 'Dataset/train/Dog'",
     "output_type": "error",
     "traceback": [
      "\u001b[0;31m---------------------------------------------------------------------------\u001b[0m",
      "\u001b[0;31mFileExistsError\u001b[0m                           Traceback (most recent call last)",
      "Cell \u001b[0;32mIn[13], line 14\u001b[0m\n\u001b[1;32m     11\u001b[0m     os\u001b[39m.\u001b[39mmkdir(\u001b[39m\"\u001b[39m\u001b[39mDataset/train/Dog\u001b[39m\u001b[39m\"\u001b[39m)\n\u001b[1;32m     13\u001b[0m     os\u001b[39m.\u001b[39mmkdir(\u001b[39m\"\u001b[39m\u001b[39mDataset/test/Cat\u001b[39m\u001b[39m\"\u001b[39m)\n\u001b[0;32m---> 14\u001b[0m     os\u001b[39m.\u001b[39;49mmkdir(\u001b[39m\"\u001b[39;49m\u001b[39mDataset/train/Dog\u001b[39;49m\u001b[39m\"\u001b[39;49m)\n\u001b[1;32m     15\u001b[0m \u001b[39melse\u001b[39;00m:\u001b[39mpass\u001b[39;00m\n",
      "\u001b[0;31mFileExistsError\u001b[0m: [Errno 17] File exists: 'Dataset/train/Dog'"
     ]
    }
   ],
   "source": [
    "# # Making the final folder dataset\n",
    "# if  os.path.exists(\"Dataset\") != True:\n",
    "#     os.mkdir(\"Dataset\")\n",
    "# else:pass\n",
    "# if os.path.exists(\"Dataset/train\")!= True or os.path.exists(\"Dataset/test\") !=True:\n",
    "#     os.mkdir(\"Dataset/train\")\n",
    "#     os.mkdir(\"Dataset/test\")\n",
    "# else: pass\n",
    "# if os.path.exists(\"Dataset/train/Cat\")!= True or os.path.exists(\"Dataset/test/Cat\")!= True or os.path.exists(\"Dataset/train/Dog\")!= True or os.path.exists(\"Dataset/test/Dog\") != True:\n",
    "#     os.mkdir(\"Dataset/train/Cat\")\n",
    "#     os.mkdir(\"Dataset/train/Dog\")\n",
    "\n",
    "#     os.mkdir(\"Dataset/test/Cat\")\n",
    "#     os.mkdir(\"Dataset/train/Dog\")\n",
    "# else:pass\n"
   ]
  },
  {
   "cell_type": "code",
   "execution_count": null,
   "metadata": {},
   "outputs": [],
   "source": []
  },
  {
   "cell_type": "code",
   "execution_count": 14,
   "metadata": {},
   "outputs": [],
   "source": [
    "destination_url = r\"Dataset\""
   ]
  },
  {
   "cell_type": "code",
   "execution_count": 17,
   "metadata": {},
   "outputs": [],
   "source": [
    "# cat_images_list = os.listdir(os.path.join(orignal_url, \"Cat\"))\n",
    "# dog_images_list = os.listdir(os.path.join(orignal_url, \"Dog\"))\n",
    "\n",
    "# # cat addition.\n",
    "# for i in range(cat_len):\n",
    "#     if i <= train_len:\n",
    "#         src_path = os.path.join(orignal_url, \"Cat\", cat_images_list[i])\n",
    "#         dst_path = os.path.join(destination_url, \"test/Cat\", cat_images_list[i])\n",
    "#         shutil.copy(src_path, dst_path)\n",
    "#     else:\n",
    "#         src_path = os.path.join(orignal_url, \"Cat\", cat_images_list[i])\n",
    "#         dst_path = os.path.join(destination_url, \"train/Cat\", cat_images_list[i])\n",
    "#         shutil.copy(src_path, dst_path)\n"
   ]
  },
  {
   "cell_type": "code",
   "execution_count": 18,
   "metadata": {},
   "outputs": [],
   "source": [
    "# dog addition.\n",
    "# for i in range(dog_len):\n",
    "#     if i <= train_len:\n",
    "#         src_path = os.path.join(orignal_url, \"Dog\", dog_images_list[i])\n",
    "#         dst_path = os.path.join(destination_url, \"test/Dog\", cat_images_list[i])\n",
    "#         shutil.copy(src_path, dst_path)\n",
    "#     else:\n",
    "#         src_path = os.path.join(orignal_url, \"Dog\", dog_images_list[i])\n",
    "#         dst_path = os.path.join(destination_url, \"train/Dog\", cat_images_list[i])\n",
    "#         shutil.copy(src_path, dst_path)"
   ]
  },
  {
   "cell_type": "code",
   "execution_count": null,
   "metadata": {},
   "outputs": [],
   "source": []
  }
 ],
 "metadata": {
  "kernelspec": {
   "display_name": "base",
   "language": "python",
   "name": "python3"
  },
  "language_info": {
   "codemirror_mode": {
    "name": "ipython",
    "version": 3
   },
   "file_extension": ".py",
   "mimetype": "text/x-python",
   "name": "python",
   "nbconvert_exporter": "python",
   "pygments_lexer": "ipython3",
   "version": "3.10.9"
  },
  "orig_nbformat": 4
 },
 "nbformat": 4,
 "nbformat_minor": 2
}
